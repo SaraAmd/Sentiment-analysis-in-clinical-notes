{
  "nbformat": 4,
  "nbformat_minor": 0,
  "metadata": {
    "colab": {
      "name": "cliniclaNote.ipynb",
      "provenance": []
    },
    "kernelspec": {
      "name": "python3",
      "display_name": "Python 3"
    },
    "language_info": {
      "name": "python"
    },
    "accelerator": "GPU"
  },
  "cells": [
    {
      "cell_type": "code",
      "execution_count": null,
      "metadata": {
        "colab": {
          "base_uri": "https://localhost:8080/"
        },
        "id": "ikK8vYlZ4Z3C",
        "outputId": "273aaf74-1c6d-4c29-d799-096b27f87217"
      },
      "outputs": [
        {
          "output_type": "stream",
          "name": "stdout",
          "text": [
            "Mounted at /content/drive/\n"
          ]
        }
      ],
      "source": [
        "from google.colab import drive\n",
        "drive.mount('/content/drive/')"
      ]
    },
    {
      "cell_type": "code",
      "source": [
        "import pandas as pd\n",
        "import torch\n",
        "import re\n",
        "import numpy as np"
      ],
      "metadata": {
        "id": "3NRRniE-5wss"
      },
      "execution_count": null,
      "outputs": []
    },
    {
      "cell_type": "code",
      "source": [
        "import os\n",
        "os.chdir(\"/content/drive/MyDrive\")\n",
        "!ls"
      ],
      "metadata": {
        "colab": {
          "base_uri": "https://localhost:8080/"
        },
        "id": "sqPn19cl9AkM",
        "outputId": "86693485-cb1e-49eb-dcae-d161fbb830d9"
      },
      "execution_count": null,
      "outputs": [
        {
          "output_type": "stream",
          "name": "stdout",
          "text": [
            " AI-molecular.gslides\n",
            " AI-proposal.gdoc\n",
            " Assignment_4\n",
            " bert-base-cased_final_results.csv\n",
            " chehreh.jpg\n",
            "'Colab Notebooks'\n",
            " data.csv\n",
            " distilroberta-base_final_results.csv\n",
            "'GAN _LSGAN.ipynb'\n",
            " HW3.gdoc\n",
            "'Image Captioning Using Encoder-Decoder Architecture.ipynb'\n",
            " Interview.gdoc\n",
            " kaggle.json\n",
            " KARTMELI.jpg\n",
            " MIMICaccess.gdoc\n",
            " nesha\n",
            " NLPudemy\n",
            "'out1 (1).xls'\n",
            " out1_sareh.csv\n",
            " P1830603-1.jpg\n",
            " pic080.jpg\n",
            " pic081.jpg\n",
            " professions.json\n",
            " Report.docx\n",
            " roberta-base_final_results.csv\n",
            " roberta-large_final_results.csv\n",
            " Robotics1.rar\n",
            " scan005.jpg\n",
            " shenasname.jpg\n",
            " SKMBT_C35113090707481_0001.jpg\n",
            " sop1.docx\n",
            " sop-changes.gdoc\n",
            " sss111_0003.jpg\n",
            " STAT.rar\n",
            "'To-do list.gsheet'\n",
            "'Unified, Real-Time Object Detection (YOLO).ipynb'\n",
            " untitled4.py\n",
            "'Untitled document (1).gdoc'\n",
            "'Untitled document (2).gdoc'\n",
            "'Untitled document (3).gdoc'\n",
            "'Untitled document.gdoc'\n",
            "'Untitled presentation (1).gslides'\n",
            "'Untitled presentation.gslides'\n"
          ]
        }
      ]
    },
    {
      "cell_type": "code",
      "source": [
        "df = pd.read_csv('out1_sareh.csv')\n",
        "df"
      ],
      "metadata": {
        "colab": {
          "base_uri": "https://localhost:8080/",
          "height": 423
        },
        "id": "4b-hlSSH51C7",
        "outputId": "81d0d10c-0b88-4871-ddd3-fc5f7d951420"
      },
      "execution_count": null,
      "outputs": [
        {
          "output_type": "execute_result",
          "data": {
            "text/html": [
              "\n",
              "  <div id=\"df-834d06c8-4009-4a0d-b2d4-6d71f9d86468\">\n",
              "    <div class=\"colab-df-container\">\n",
              "      <div>\n",
              "<style scoped>\n",
              "    .dataframe tbody tr th:only-of-type {\n",
              "        vertical-align: middle;\n",
              "    }\n",
              "\n",
              "    .dataframe tbody tr th {\n",
              "        vertical-align: top;\n",
              "    }\n",
              "\n",
              "    .dataframe thead th {\n",
              "        text-align: right;\n",
              "    }\n",
              "</style>\n",
              "<table border=\"1\" class=\"dataframe\">\n",
              "  <thead>\n",
              "    <tr style=\"text-align: right;\">\n",
              "      <th></th>\n",
              "      <th>paragraph_index</th>\n",
              "      <th>paragraph</th>\n",
              "      <th>sentence</th>\n",
              "      <th>label</th>\n",
              "    </tr>\n",
              "  </thead>\n",
              "  <tbody>\n",
              "    <tr>\n",
              "      <th>0</th>\n",
              "      <td>0</td>\n",
              "      <td>['1)', '2)  EGD this am, continue octreotide g...</td>\n",
              "      <td>No tremors, no H/A, Alert and oriented, plea...</td>\n",
              "      <td>[1]</td>\n",
              "    </tr>\n",
              "    <tr>\n",
              "      <th>1</th>\n",
              "      <td>1</td>\n",
              "      <td>['1)', '2)  altered mental status, anticholine...</td>\n",
              "      <td>In the ED, he was reportedly combative, irri...</td>\n",
              "      <td>[2]</td>\n",
              "    </tr>\n",
              "    <tr>\n",
              "      <th>2</th>\n",
              "      <td>2</td>\n",
              "      <td>['1)  Flolan at 15ng/kg/min (based on 95kg mai...</td>\n",
              "      <td>Anxiety  Assessment:</td>\n",
              "      <td>[1]</td>\n",
              "    </tr>\n",
              "    <tr>\n",
              "      <th>3</th>\n",
              "      <td>3</td>\n",
              "      <td>['1)  Events:', '2)  Moderate amount of bleedi...</td>\n",
              "      <td>Fentanyl w/ facial grimacing with trach  car...</td>\n",
              "      <td>[1]</td>\n",
              "    </tr>\n",
              "    <tr>\n",
              "      <th>4</th>\n",
              "      <td>4</td>\n",
              "      <td>['1)  Assessed mental status.', '2)  Reoriente...</td>\n",
              "      <td>No change in mental status.</td>\n",
              "      <td>[1]</td>\n",
              "    </tr>\n",
              "    <tr>\n",
              "      <th>...</th>\n",
              "      <td>...</td>\n",
              "      <td>...</td>\n",
              "      <td>...</td>\n",
              "      <td>...</td>\n",
              "    </tr>\n",
              "    <tr>\n",
              "      <th>553</th>\n",
              "      <td>546</td>\n",
              "      <td>['1)', '2)  BS being monitored, regular insuli...</td>\n",
              "      <td>*] Left leg pain with grimacing and yelling ...</td>\n",
              "      <td>[1]</td>\n",
              "    </tr>\n",
              "    <tr>\n",
              "      <th>554</th>\n",
              "      <td>547</td>\n",
              "      <td>['1)', '2)  th 100 mcg boluses every [', '3)  ...</td>\n",
              "      <td>Subsequently, on Saturday afternoon [**10-6*...</td>\n",
              "      <td>[1]</td>\n",
              "    </tr>\n",
              "    <tr>\n",
              "      <th>555</th>\n",
              "      <td>548</td>\n",
              "      <td>[\"1)  PRBC's with a repeat\", '2)  Hct-33.6 (28...</td>\n",
              "      <td>pt had a  profound episode of agitation requ...</td>\n",
              "      <td>[1]</td>\n",
              "    </tr>\n",
              "    <tr>\n",
              "      <th>556</th>\n",
              "      <td>549</td>\n",
              "      <td>['1)', '2)  s/', '3)  p L: hip repair.', '4)  ...</td>\n",
              "      <td>Pt intermittently confused,attempting to get...</td>\n",
              "      <td>[1]</td>\n",
              "    </tr>\n",
              "    <tr>\n",
              "      <th>557</th>\n",
              "      <td>550</td>\n",
              "      <td>['1)', \"2)  HR 90'S to low\", \"3)  100's nsr-st...</td>\n",
              "      <td>periods of anxiety easily relieved with emot...</td>\n",
              "      <td>[1]</td>\n",
              "    </tr>\n",
              "  </tbody>\n",
              "</table>\n",
              "<p>558 rows × 4 columns</p>\n",
              "</div>\n",
              "      <button class=\"colab-df-convert\" onclick=\"convertToInteractive('df-834d06c8-4009-4a0d-b2d4-6d71f9d86468')\"\n",
              "              title=\"Convert this dataframe to an interactive table.\"\n",
              "              style=\"display:none;\">\n",
              "        \n",
              "  <svg xmlns=\"http://www.w3.org/2000/svg\" height=\"24px\"viewBox=\"0 0 24 24\"\n",
              "       width=\"24px\">\n",
              "    <path d=\"M0 0h24v24H0V0z\" fill=\"none\"/>\n",
              "    <path d=\"M18.56 5.44l.94 2.06.94-2.06 2.06-.94-2.06-.94-.94-2.06-.94 2.06-2.06.94zm-11 1L8.5 8.5l.94-2.06 2.06-.94-2.06-.94L8.5 2.5l-.94 2.06-2.06.94zm10 10l.94 2.06.94-2.06 2.06-.94-2.06-.94-.94-2.06-.94 2.06-2.06.94z\"/><path d=\"M17.41 7.96l-1.37-1.37c-.4-.4-.92-.59-1.43-.59-.52 0-1.04.2-1.43.59L10.3 9.45l-7.72 7.72c-.78.78-.78 2.05 0 2.83L4 21.41c.39.39.9.59 1.41.59.51 0 1.02-.2 1.41-.59l7.78-7.78 2.81-2.81c.8-.78.8-2.07 0-2.86zM5.41 20L4 18.59l7.72-7.72 1.47 1.35L5.41 20z\"/>\n",
              "  </svg>\n",
              "      </button>\n",
              "      \n",
              "  <style>\n",
              "    .colab-df-container {\n",
              "      display:flex;\n",
              "      flex-wrap:wrap;\n",
              "      gap: 12px;\n",
              "    }\n",
              "\n",
              "    .colab-df-convert {\n",
              "      background-color: #E8F0FE;\n",
              "      border: none;\n",
              "      border-radius: 50%;\n",
              "      cursor: pointer;\n",
              "      display: none;\n",
              "      fill: #1967D2;\n",
              "      height: 32px;\n",
              "      padding: 0 0 0 0;\n",
              "      width: 32px;\n",
              "    }\n",
              "\n",
              "    .colab-df-convert:hover {\n",
              "      background-color: #E2EBFA;\n",
              "      box-shadow: 0px 1px 2px rgba(60, 64, 67, 0.3), 0px 1px 3px 1px rgba(60, 64, 67, 0.15);\n",
              "      fill: #174EA6;\n",
              "    }\n",
              "\n",
              "    [theme=dark] .colab-df-convert {\n",
              "      background-color: #3B4455;\n",
              "      fill: #D2E3FC;\n",
              "    }\n",
              "\n",
              "    [theme=dark] .colab-df-convert:hover {\n",
              "      background-color: #434B5C;\n",
              "      box-shadow: 0px 1px 3px 1px rgba(0, 0, 0, 0.15);\n",
              "      filter: drop-shadow(0px 1px 2px rgba(0, 0, 0, 0.3));\n",
              "      fill: #FFFFFF;\n",
              "    }\n",
              "  </style>\n",
              "\n",
              "      <script>\n",
              "        const buttonEl =\n",
              "          document.querySelector('#df-834d06c8-4009-4a0d-b2d4-6d71f9d86468 button.colab-df-convert');\n",
              "        buttonEl.style.display =\n",
              "          google.colab.kernel.accessAllowed ? 'block' : 'none';\n",
              "\n",
              "        async function convertToInteractive(key) {\n",
              "          const element = document.querySelector('#df-834d06c8-4009-4a0d-b2d4-6d71f9d86468');\n",
              "          const dataTable =\n",
              "            await google.colab.kernel.invokeFunction('convertToInteractive',\n",
              "                                                     [key], {});\n",
              "          if (!dataTable) return;\n",
              "\n",
              "          const docLinkHtml = 'Like what you see? Visit the ' +\n",
              "            '<a target=\"_blank\" href=https://colab.research.google.com/notebooks/data_table.ipynb>data table notebook</a>'\n",
              "            + ' to learn more about interactive tables.';\n",
              "          element.innerHTML = '';\n",
              "          dataTable['output_type'] = 'display_data';\n",
              "          await google.colab.output.renderOutput(dataTable, element);\n",
              "          const docLink = document.createElement('div');\n",
              "          docLink.innerHTML = docLinkHtml;\n",
              "          element.appendChild(docLink);\n",
              "        }\n",
              "      </script>\n",
              "    </div>\n",
              "  </div>\n",
              "  "
            ],
            "text/plain": [
              "     paragraph_index                                          paragraph  \\\n",
              "0                  0  ['1)', '2)  EGD this am, continue octreotide g...   \n",
              "1                  1  ['1)', '2)  altered mental status, anticholine...   \n",
              "2                  2  ['1)  Flolan at 15ng/kg/min (based on 95kg mai...   \n",
              "3                  3  ['1)  Events:', '2)  Moderate amount of bleedi...   \n",
              "4                  4  ['1)  Assessed mental status.', '2)  Reoriente...   \n",
              "..               ...                                                ...   \n",
              "553              546  ['1)', '2)  BS being monitored, regular insuli...   \n",
              "554              547  ['1)', '2)  th 100 mcg boluses every [', '3)  ...   \n",
              "555              548  [\"1)  PRBC's with a repeat\", '2)  Hct-33.6 (28...   \n",
              "556              549  ['1)', '2)  s/', '3)  p L: hip repair.', '4)  ...   \n",
              "557              550  ['1)', \"2)  HR 90'S to low\", \"3)  100's nsr-st...   \n",
              "\n",
              "                                              sentence label  \n",
              "0      No tremors, no H/A, Alert and oriented, plea...   [1]  \n",
              "1      In the ED, he was reportedly combative, irri...   [2]  \n",
              "2                                 Anxiety  Assessment:   [1]  \n",
              "3      Fentanyl w/ facial grimacing with trach  car...   [1]  \n",
              "4                          No change in mental status.   [1]  \n",
              "..                                                 ...   ...  \n",
              "553    *] Left leg pain with grimacing and yelling ...   [1]  \n",
              "554    Subsequently, on Saturday afternoon [**10-6*...   [1]  \n",
              "555    pt had a  profound episode of agitation requ...   [1]  \n",
              "556    Pt intermittently confused,attempting to get...   [1]  \n",
              "557    periods of anxiety easily relieved with emot...   [1]  \n",
              "\n",
              "[558 rows x 4 columns]"
            ]
          },
          "metadata": {},
          "execution_count": 71
        }
      ]
    },
    {
      "cell_type": "code",
      "source": [
        "#check the distribution of sentiment classes across our data.\n",
        "\n",
        "df['label'].value_counts().plot(kind='bar')"
      ],
      "metadata": {
        "colab": {
          "base_uri": "https://localhost:8080/",
          "height": 312
        },
        "id": "7qQ9lvB7VN4S",
        "outputId": "31c9536a-db51-4e48-a47c-8c53d1581bc6"
      },
      "execution_count": null,
      "outputs": [
        {
          "output_type": "execute_result",
          "data": {
            "text/plain": [
              "<matplotlib.axes._subplots.AxesSubplot at 0x7f8ebb911ed0>"
            ]
          },
          "metadata": {},
          "execution_count": 5
        },
        {
          "output_type": "display_data",
          "data": {
            "image/png": "[encoded data removed]",
            "text/plain": [
              "<Figure size 432x288 with 1 Axes>"
            ]
          },
          "metadata": {
            "needs_background": "light"
          }
        }
      ]
    },
    {
      "cell_type": "code",
      "source": [
        "text = df['paragraph'][0]\n",
        "text"
      ],
      "metadata": {
        "colab": {
          "base_uri": "https://localhost:8080/",
          "height": 140
        },
        "id": "hNIJO2isj1k7",
        "outputId": "8d2edbdb-ed52-403a-da32-58d69c2da460"
      },
      "execution_count": null,
      "outputs": [
        {
          "output_type": "execute_result",
          "data": {
            "application/vnd.google.colaboratory.intrinsic+json": {
              "type": "string"
            },
            "text/plain": [
              "\"['1)', '2)  EGD this am, continue octreotide gtt, transfuse prn, possible transfer  out to medical floor if remains stable.', '3)  Check serial Hcts  Pain control (acute pain, chronic pain  Assessment:', '4)  c/', '5)  o', '6)  [', '7)  **8-30', '8)  **] abd pain and states', '9)  it is', '10)  the same pain he gets when his  pancreatitis gets worse, tender to palpation', '11)  , positive bowel sounds', '12)  all quads, NPO, states that dilaudid helps him with pain control', '13)  Action:', '14)  Dilaudid 1 mg x 1 with relief  Response:  Good pain control with dilaudid  Plan:', '15)  Assess comfort level and level of abd pain Q2-3hrs, medicate with  dilaudid Q4hr for pain.', '16)  .H', '17)  /', '18)  O alcohol withdrawal (including delirium tremens, DTs, seizures', '19)  Assessment:', '20)  No tremors, no H/A, Alert and oriented, pleasant and cooperative,  following all commands, denies anxiety, denies hallucinations, no  sweating noted, lethargic following dilaudid dose, CIWA,<10  Action:  Assessed for signs of DTs, freq.']\""
            ]
          },
          "metadata": {},
          "execution_count": 46
        }
      ]
    },
    {
      "cell_type": "code",
      "source": [
        "from sklearn.model_selection import train_test_split\n",
        "\n",
        "x = df.paragraph.values\n",
        "y = df.label.values\n",
        "\n",
        "X_train , X_val , y_train, y_val = train_test_split(x, y, test_size=0.1, random_state=2020) "
      ],
      "metadata": {
        "id": "XjZFniGCjTBu"
      },
      "execution_count": null,
      "outputs": []
    },
    {
      "cell_type": "code",
      "source": [
        "print(type(X_train))"
      ],
      "metadata": {
        "colab": {
          "base_uri": "https://localhost:8080/"
        },
        "id": "_PQF6no_kMXJ",
        "outputId": "d65df8de-a9e6-4102-8563-2ff32761cc14"
      },
      "execution_count": null,
      "outputs": [
        {
          "output_type": "stream",
          "name": "stdout",
          "text": [
            "<class 'numpy.ndarray'>\n"
          ]
        }
      ]
    },
    {
      "cell_type": "code",
      "source": [
        "print(type(y_train))"
      ],
      "metadata": {
        "colab": {
          "base_uri": "https://localhost:8080/"
        },
        "id": "LqQuyXSqlaPy",
        "outputId": "ad87cba7-07ce-4dbc-b27a-16a0d58c03db"
      },
      "execution_count": null,
      "outputs": [
        {
          "output_type": "stream",
          "name": "stdout",
          "text": [
            "<class 'numpy.ndarray'>\n"
          ]
        }
      ]
    },
    {
      "cell_type": "code",
      "source": [
        "def text_preprocessing(text):\n",
        "  modified_string = re.sub(r\"[0-9]\\)\", \"\", text)\n",
        "  m = re.sub(r'[\\([{})\\]]', \"\", modified_string)\n",
        "  m2 = re.sub(\"'\", \"\", m)\n",
        "  #remove extra spaces\n",
        "  m3 = re.sub(' +', ' ', m2)\n",
        "  #remove the colons\n",
        "  m4 = re.sub(',', \"\", m3)\n",
        "  return m4\n",
        "\n"
      ],
      "metadata": {
        "id": "3Lw4rzLmiay4"
      },
      "execution_count": null,
      "outputs": []
    },
    {
      "cell_type": "code",
      "source": [
        "X_train_preprocessed = np.array([text_preprocessing(text) for text in X_train ])\n",
        "X_val_preprocessed= np.array([text_preprocessing(text) for text in X_val ])"
      ],
      "metadata": {
        "id": "f2rtPkSniy53"
      },
      "execution_count": null,
      "outputs": []
    },
    {
      "cell_type": "code",
      "source": [
        "def label_preprocessing(labels):\n",
        "  sentiment = []\n",
        "  for label in labels:\n",
        "    label = label.replace( \"[\" , \"\")\n",
        "    label = label.replace(\"]\" , \"\")\n",
        "    label = label.replace(\",\", \" \")\n",
        "    sentiment.append(label)\n",
        "  s = [s[:2] for s in sentiment] \n",
        "  sentiments = [int(i) for i in s]\n",
        "  return sentiments\n",
        "\n"
      ],
      "metadata": {
        "id": "99HHYcFSlwxo"
      },
      "execution_count": null,
      "outputs": []
    },
    {
      "cell_type": "code",
      "source": [
        "y_train_preprocessed = np.array(label_preprocessing(y_train) )\n",
        "y_val_preprocessed = np.array(label_preprocessing(y_val) )\n"
      ],
      "metadata": {
        "id": "CElp6t10maL1"
      },
      "execution_count": null,
      "outputs": []
    },
    {
      "cell_type": "code",
      "source": [
        "# Print sentence 0\n",
        "print('Original: ', X_train[0])\n",
        "print('Processed: ', text_preprocessing(X_train[0]))"
      ],
      "metadata": {
        "colab": {
          "base_uri": "https://localhost:8080/"
        },
        "id": "BIYwFCkQopB4",
        "outputId": "70e95c42-011d-4d37-f9a2-5cb1c203ef11"
      },
      "execution_count": null,
      "outputs": [
        {
          "output_type": "stream",
          "name": "stdout",
          "text": [
            "Original:  ['1)  Nsg.progress notes:See flow sheet for specific:Neuro:', '2)  Pt is alert and oriented', '3)  x', '4)  [*', '5)  *1-18', '6)  **], confused inbetween,but easily reoriented back, c/o pain, dilaudid prn with good effcet, ativan 1mg as pt c/', '7)  o insomnia with fair effect,', '8)  pleasant and co op with care.']\n",
            "Processed:   Nsg.progress notes:See flow sheet for specific:Neuro: Pt is alert and oriented x * *1-18 ** confused inbetweenbut easily reoriented back c/o pain dilaudid prn with good effcet ativan 1mg as pt c/ o insomnia with fair effect pleasant and co op with care.\n"
          ]
        }
      ]
    },
    {
      "cell_type": "code",
      "source": [
        "data = pd.DataFrame({'text':X_train_preprocessed, 'label':y_train_preprocessed})\n",
        "data"
      ],
      "metadata": {
        "colab": {
          "base_uri": "https://localhost:8080/",
          "height": 423
        },
        "id": "IkpdB0w6qxzA",
        "outputId": "01d094fd-abde-438d-df0a-4d6692f63dae"
      },
      "execution_count": null,
      "outputs": [
        {
          "output_type": "execute_result",
          "data": {
            "text/html": [
              "\n",
              "  <div id=\"df-0026ff3e-2584-499d-b267-f63a39008827\">\n",
              "    <div class=\"colab-df-container\">\n",
              "      <div>\n",
              "<style scoped>\n",
              "    .dataframe tbody tr th:only-of-type {\n",
              "        vertical-align: middle;\n",
              "    }\n",
              "\n",
              "    .dataframe tbody tr th {\n",
              "        vertical-align: top;\n",
              "    }\n",
              "\n",
              "    .dataframe thead th {\n",
              "        text-align: right;\n",
              "    }\n",
              "</style>\n",
              "<table border=\"1\" class=\"dataframe\">\n",
              "  <thead>\n",
              "    <tr style=\"text-align: right;\">\n",
              "      <th></th>\n",
              "      <th>text</th>\n",
              "      <th>label</th>\n",
              "    </tr>\n",
              "  </thead>\n",
              "  <tbody>\n",
              "    <tr>\n",
              "      <th>0</th>\n",
              "      <td>Nsg.progress notes:See flow sheet for specifi...</td>\n",
              "      <td>2</td>\n",
              "    </tr>\n",
              "    <tr>\n",
              "      <th>1</th>\n",
              "      <td>oriented to place and time but moving around ...</td>\n",
              "      <td>1</td>\n",
              "    </tr>\n",
              "    <tr>\n",
              "      <th>2</th>\n",
              "      <td>Pt is alert and oriented X 1. Pleasently conf...</td>\n",
              "      <td>1</td>\n",
              "    </tr>\n",
              "    <tr>\n",
              "      <th>3</th>\n",
              "      <td>Cont calm approach. Cont security sitters. Po...</td>\n",
              "      <td>1</td>\n",
              "    </tr>\n",
              "    <tr>\n",
              "      <th>4</th>\n",
              "      <td>* *Hospital3 7950 * * and also at  * *Hospita...</td>\n",
              "      <td>1</td>\n",
              "    </tr>\n",
              "    <tr>\n",
              "      <th>...</th>\n",
              "      <td>...</td>\n",
              "      <td>...</td>\n",
              "    </tr>\n",
              "    <tr>\n",
              "      <th>497</th>\n",
              "      <td>516 ** pt mechanically ventilated 40%/550/18/...</td>\n",
              "      <td>1</td>\n",
              "    </tr>\n",
              "    <tr>\n",
              "      <th>498</th>\n",
              "      <td>may be coughing r/t sob with exertion. speech...</td>\n",
              "      <td>1</td>\n",
              "    </tr>\n",
              "    <tr>\n",
              "      <th>499</th>\n",
              "      <td>O2 4l nc sats=96-98%. Coughing up beige sputu...</td>\n",
              "      <td>1</td>\n",
              "    </tr>\n",
              "    <tr>\n",
              "      <th>500</th>\n",
              "      <td>HR 50-60 SB on IV esmolol at 100mcg/kg/min BP...</td>\n",
              "      <td>1</td>\n",
              "    </tr>\n",
              "    <tr>\n",
              "      <th>501</th>\n",
              "      <td>T-SICU NPNNEURO: Pt awake and responsive on P...</td>\n",
              "      <td>1</td>\n",
              "    </tr>\n",
              "  </tbody>\n",
              "</table>\n",
              "<p>502 rows × 2 columns</p>\n",
              "</div>\n",
              "      <button class=\"colab-df-convert\" onclick=\"convertToInteractive('df-0026ff3e-2584-499d-b267-f63a39008827')\"\n",
              "              title=\"Convert this dataframe to an interactive table.\"\n",
              "              style=\"display:none;\">\n",
              "        \n",
              "  <svg xmlns=\"http://www.w3.org/2000/svg\" height=\"24px\"viewBox=\"0 0 24 24\"\n",
              "       width=\"24px\">\n",
              "    <path d=\"M0 0h24v24H0V0z\" fill=\"none\"/>\n",
              "    <path d=\"M18.56 5.44l.94 2.06.94-2.06 2.06-.94-2.06-.94-.94-2.06-.94 2.06-2.06.94zm-11 1L8.5 8.5l.94-2.06 2.06-.94-2.06-.94L8.5 2.5l-.94 2.06-2.06.94zm10 10l.94 2.06.94-2.06 2.06-.94-2.06-.94-.94-2.06-.94 2.06-2.06.94z\"/><path d=\"M17.41 7.96l-1.37-1.37c-.4-.4-.92-.59-1.43-.59-.52 0-1.04.2-1.43.59L10.3 9.45l-7.72 7.72c-.78.78-.78 2.05 0 2.83L4 21.41c.39.39.9.59 1.41.59.51 0 1.02-.2 1.41-.59l7.78-7.78 2.81-2.81c.8-.78.8-2.07 0-2.86zM5.41 20L4 18.59l7.72-7.72 1.47 1.35L5.41 20z\"/>\n",
              "  </svg>\n",
              "      </button>\n",
              "      \n",
              "  <style>\n",
              "    .colab-df-container {\n",
              "      display:flex;\n",
              "      flex-wrap:wrap;\n",
              "      gap: 12px;\n",
              "    }\n",
              "\n",
              "    .colab-df-convert {\n",
              "      background-color: #E8F0FE;\n",
              "      border: none;\n",
              "      border-radius: 50%;\n",
              "      cursor: pointer;\n",
              "      display: none;\n",
              "      fill: #1967D2;\n",
              "      height: 32px;\n",
              "      padding: 0 0 0 0;\n",
              "      width: 32px;\n",
              "    }\n",
              "\n",
              "    .colab-df-convert:hover {\n",
              "      background-color: #E2EBFA;\n",
              "      box-shadow: 0px 1px 2px rgba(60, 64, 67, 0.3), 0px 1px 3px 1px rgba(60, 64, 67, 0.15);\n",
              "      fill: #174EA6;\n",
              "    }\n",
              "\n",
              "    [theme=dark] .colab-df-convert {\n",
              "      background-color: #3B4455;\n",
              "      fill: #D2E3FC;\n",
              "    }\n",
              "\n",
              "    [theme=dark] .colab-df-convert:hover {\n",
              "      background-color: #434B5C;\n",
              "      box-shadow: 0px 1px 3px 1px rgba(0, 0, 0, 0.15);\n",
              "      filter: drop-shadow(0px 1px 2px rgba(0, 0, 0, 0.3));\n",
              "      fill: #FFFFFF;\n",
              "    }\n",
              "  </style>\n",
              "\n",
              "      <script>\n",
              "        const buttonEl =\n",
              "          document.querySelector('#df-0026ff3e-2584-499d-b267-f63a39008827 button.colab-df-convert');\n",
              "        buttonEl.style.display =\n",
              "          google.colab.kernel.accessAllowed ? 'block' : 'none';\n",
              "\n",
              "        async function convertToInteractive(key) {\n",
              "          const element = document.querySelector('#df-0026ff3e-2584-499d-b267-f63a39008827');\n",
              "          const dataTable =\n",
              "            await google.colab.kernel.invokeFunction('convertToInteractive',\n",
              "                                                     [key], {});\n",
              "          if (!dataTable) return;\n",
              "\n",
              "          const docLinkHtml = 'Like what you see? Visit the ' +\n",
              "            '<a target=\"_blank\" href=https://colab.research.google.com/notebooks/data_table.ipynb>data table notebook</a>'\n",
              "            + ' to learn more about interactive tables.';\n",
              "          element.innerHTML = '';\n",
              "          dataTable['output_type'] = 'display_data';\n",
              "          await google.colab.output.renderOutput(dataTable, element);\n",
              "          const docLink = document.createElement('div');\n",
              "          docLink.innerHTML = docLinkHtml;\n",
              "          element.appendChild(docLink);\n",
              "        }\n",
              "      </script>\n",
              "    </div>\n",
              "  </div>\n",
              "  "
            ],
            "text/plain": [
              "                                                  text  label\n",
              "0     Nsg.progress notes:See flow sheet for specifi...      2\n",
              "1     oriented to place and time but moving around ...      1\n",
              "2     Pt is alert and oriented X 1. Pleasently conf...      1\n",
              "3     Cont calm approach. Cont security sitters. Po...      1\n",
              "4     * *Hospital3 7950 * * and also at  * *Hospita...      1\n",
              "..                                                 ...    ...\n",
              "497   516 ** pt mechanically ventilated 40%/550/18/...      1\n",
              "498   may be coughing r/t sob with exertion. speech...      1\n",
              "499   O2 4l nc sats=96-98%. Coughing up beige sputu...      1\n",
              "500   HR 50-60 SB on IV esmolol at 100mcg/kg/min BP...      1\n",
              "501   T-SICU NPNNEURO: Pt awake and responsive on P...      1\n",
              "\n",
              "[502 rows x 2 columns]"
            ]
          },
          "metadata": {},
          "execution_count": 80
        }
      ]
    },
    {
      "cell_type": "code",
      "source": [
        "data.to_csv('finalData.csv', index=False)"
      ],
      "metadata": {
        "id": "wemiR2jrrTZF"
      },
      "execution_count": null,
      "outputs": []
    },
    {
      "cell_type": "code",
      "source": [
        "data_val = pd.DataFrame({'text': X_val_preprocessed, 'label':y_val_preprocessed})\n",
        "data_val"
      ],
      "metadata": {
        "colab": {
          "base_uri": "https://localhost:8080/",
          "height": 1000
        },
        "id": "yLkXiAq8s8H8",
        "outputId": "2f309c17-60f9-4504-c54a-f51788f2b007"
      },
      "execution_count": null,
      "outputs": [
        {
          "output_type": "execute_result",
          "data": {
            "text/html": [
              "\n",
              "  <div id=\"df-b0099ae0-f67c-4729-8976-b2b0a1f06f23\">\n",
              "    <div class=\"colab-df-container\">\n",
              "      <div>\n",
              "<style scoped>\n",
              "    .dataframe tbody tr th:only-of-type {\n",
              "        vertical-align: middle;\n",
              "    }\n",
              "\n",
              "    .dataframe tbody tr th {\n",
              "        vertical-align: top;\n",
              "    }\n",
              "\n",
              "    .dataframe thead th {\n",
              "        text-align: right;\n",
              "    }\n",
              "</style>\n",
              "<table border=\"1\" class=\"dataframe\">\n",
              "  <thead>\n",
              "    <tr style=\"text-align: right;\">\n",
              "      <th></th>\n",
              "      <th>text</th>\n",
              "      <th>label</th>\n",
              "    </tr>\n",
              "  </thead>\n",
              "  <tbody>\n",
              "    <tr>\n",
              "      <th>0</th>\n",
              "      <td>RN shift note neuro: Intact; AAO x 3. Coop &amp; ...</td>\n",
              "      <td>1</td>\n",
              "    </tr>\n",
              "    <tr>\n",
              "      <th>1</th>\n",
              "      <td>Response: She  * *Doctor Last Name * * w/ low...</td>\n",
              "      <td>1</td>\n",
              "    </tr>\n",
              "    <tr>\n",
              "      <th>2</th>\n",
              "      <td>Able to communicate via daughter. Daughter st...</td>\n",
              "      <td>1</td>\n",
              "    </tr>\n",
              "    <tr>\n",
              "      <th>3</th>\n",
              "      <td>ema/anasarca 6 plus pitting bilateral pleural...</td>\n",
              "      <td>1</td>\n",
              "    </tr>\n",
              "    <tr>\n",
              "      <th>4</th>\n",
              "      <td>Con Q6hr Acetminophen emotional support PRN M...</td>\n",
              "      <td>1</td>\n",
              "    </tr>\n",
              "    <tr>\n",
              "      <th>5</th>\n",
              "      <td>Still has + air-leak. Plan: Pulmonary toilet ...</td>\n",
              "      <td>1</td>\n",
              "    </tr>\n",
              "    <tr>\n",
              "      <th>6</th>\n",
              "      <td>th 100 mcg boluses every  **1-16 * * hrs. Als...</td>\n",
              "      <td>1</td>\n",
              "    </tr>\n",
              "    <tr>\n",
              "      <th>7</th>\n",
              "      <td>* Last Name STitle * * aware pt weaned off la...</td>\n",
              "      <td>1</td>\n",
              "    </tr>\n",
              "    <tr>\n",
              "      <th>8</th>\n",
              "      <td>SBT and PSV.  * *Month only 11 ** need presid...</td>\n",
              "      <td>1</td>\n",
              "    </tr>\n",
              "    <tr>\n",
              "      <th>9</th>\n",
              "      <td>3000 ** * * Last Name Titles * * consult tomo...</td>\n",
              "      <td>1</td>\n",
              "    </tr>\n",
              "    <tr>\n",
              "      <th>10</th>\n",
              "      <td>Sm amt thick yellow secretions. LS clear. Tra...</td>\n",
              "      <td>3</td>\n",
              "    </tr>\n",
              "    <tr>\n",
              "      <th>11</th>\n",
              "      <td>al pain patient able to express pain through ...</td>\n",
              "      <td>1</td>\n",
              "    </tr>\n",
              "    <tr>\n",
              "      <th>12</th>\n",
              "      <td>10 worse to abdominal incision than back inci...</td>\n",
              "      <td>1</td>\n",
              "    </tr>\n",
              "    <tr>\n",
              "      <th>13</th>\n",
              "      <td>BS QID replete lytes as necessary. Delirium /...</td>\n",
              "      <td>1</td>\n",
              "    </tr>\n",
              "    <tr>\n",
              "      <th>14</th>\n",
              "      <td>NPN 7a-7p Events: c/o R UE pain intermittentl...</td>\n",
              "      <td>1</td>\n",
              "    </tr>\n",
              "    <tr>\n",
              "      <th>15</th>\n",
              "      <td>Abd very rounded but soft. Small open area no...</td>\n",
              "      <td>1</td>\n",
              "    </tr>\n",
              "    <tr>\n",
              "      <th>16</th>\n",
              "      <td>*neuro- A&amp;Ox3 when asked but confused at time...</td>\n",
              "      <td>1</td>\n",
              "    </tr>\n",
              "    <tr>\n",
              "      <th>17</th>\n",
              "      <td>Try to wean if possible of vent .H /O diabete...</td>\n",
              "      <td>3</td>\n",
              "    </tr>\n",
              "    <tr>\n",
              "      <th>18</th>\n",
              "      <td>* * Date range 1 6839* * 1900-0700 This 60 yr...</td>\n",
              "      <td>1</td>\n",
              "    </tr>\n",
              "    <tr>\n",
              "      <th>19</th>\n",
              "      <td>**Name2 NI * * site c/d small ecchymotic area...</td>\n",
              "      <td>1</td>\n",
              "    </tr>\n",
              "    <tr>\n",
              "      <th>20</th>\n",
              "      <td>Thromboembolism other Assessment: Right arm m...</td>\n",
              "      <td>1</td>\n",
              "    </tr>\n",
              "    <tr>\n",
              "      <th>21</th>\n",
              "      <td>\" PVCs  PACs.\" no runs. K+ 4.1 MG+ 2.7 after d...</td>\n",
              "      <td>1</td>\n",
              "    </tr>\n",
              "    <tr>\n",
              "      <th>22</th>\n",
              "      <td>fol shut off to assess MS unlike in the past ...</td>\n",
              "      <td>1</td>\n",
              "    </tr>\n",
              "    <tr>\n",
              "      <th>23</th>\n",
              "      <td>cardiac- &gt; \" hr 90-110s sr/st w/occational pv...</td>\n",
              "      <td>1</td>\n",
              "    </tr>\n",
              "    <tr>\n",
              "      <th>24</th>\n",
              "      <td>encouragement to cough and deep breath nebs a...</td>\n",
              "      <td>1</td>\n",
              "    </tr>\n",
              "    <tr>\n",
              "      <th>25</th>\n",
              "      <td>Suction  * *Hospital 12615 * * rehab once ins...</td>\n",
              "      <td>1</td>\n",
              "    </tr>\n",
              "    <tr>\n",
              "      <th>26</th>\n",
              "      <td>med reaction...25mg IV benadryl given and pat...</td>\n",
              "      <td>1</td>\n",
              "    </tr>\n",
              "    <tr>\n",
              "      <th>27</th>\n",
              "      <td>Will cont to follow for abrupt changes in HCT...</td>\n",
              "      <td>3</td>\n",
              "    </tr>\n",
              "    <tr>\n",
              "      <th>28</th>\n",
              "      <td>He is on tobramycin was on  * *9-7 **. he wil...</td>\n",
              "      <td>1</td>\n",
              "    </tr>\n",
              "    <tr>\n",
              "      <th>29</th>\n",
              "      <td>alert oriented. Speech is somewhat difficult ...</td>\n",
              "      <td>3</td>\n",
              "    </tr>\n",
              "    <tr>\n",
              "      <th>30</th>\n",
              "      <td>: n/a Past addictions history: n/a Employment...</td>\n",
              "      <td>1</td>\n",
              "    </tr>\n",
              "    <tr>\n",
              "      <th>31</th>\n",
              "      <td>Monitor hct s/s bleeding Pulmonary edema Asse...</td>\n",
              "      <td>1</td>\n",
              "    </tr>\n",
              "    <tr>\n",
              "      <th>32</th>\n",
              "      <td>: Stable Plan: Monitor for temp po antibiotic...</td>\n",
              "      <td>1</td>\n",
              "    </tr>\n",
              "    <tr>\n",
              "      <th>33</th>\n",
              "      <td>MS Assessment: Upon initial assessment  pt. l...</td>\n",
              "      <td>1</td>\n",
              "    </tr>\n",
              "    <tr>\n",
              "      <th>34</th>\n",
              "      <td>to see pt. moves all ext on bed. Opens eyes t...</td>\n",
              "      <td>1</td>\n",
              "    </tr>\n",
              "    <tr>\n",
              "      <th>35</th>\n",
              "      <td>51 y/o M with hx of DM asthma depression and ...</td>\n",
              "      <td>1</td>\n",
              "    </tr>\n",
              "    <tr>\n",
              "      <th>36</th>\n",
              "      <td>&lt;140 Diures for goal FB -1L HypoxemiaAssessme...</td>\n",
              "      <td>1</td>\n",
              "    </tr>\n",
              "    <tr>\n",
              "      <th>37</th>\n",
              "      <td>Neuro: tp is alert and oriented. at start of ...</td>\n",
              "      <td>1</td>\n",
              "    </tr>\n",
              "    <tr>\n",
              "      <th>38</th>\n",
              "      <td>** recs. Neuro: alert oriented follows comman...</td>\n",
              "      <td>1</td>\n",
              "    </tr>\n",
              "    <tr>\n",
              "      <th>39</th>\n",
              "      <td>Continue current treatment. Pain control acut...</td>\n",
              "      <td>1</td>\n",
              "    </tr>\n",
              "    <tr>\n",
              "      <th>40</th>\n",
              "      <td>or no questions intermittently. However has n...</td>\n",
              "      <td>1</td>\n",
              "    </tr>\n",
              "    <tr>\n",
              "      <th>41</th>\n",
              "      <td>Pain med is ordered for prn and pt reminded t...</td>\n",
              "      <td>1</td>\n",
              "    </tr>\n",
              "    <tr>\n",
              "      <th>42</th>\n",
              "      <td>Neuro: Opens eyes able to wiggle toes on R fo...</td>\n",
              "      <td>1</td>\n",
              "    </tr>\n",
              "    <tr>\n",
              "      <th>43</th>\n",
              "      <td>S/P extubation * *4-10 ** in afternoon. Pt to...</td>\n",
              "      <td>1</td>\n",
              "    </tr>\n",
              "    <tr>\n",
              "      <th>44</th>\n",
              "      <td>Cont to wean O2 as able pain mgmt. High Risk ...</td>\n",
              "      <td>1</td>\n",
              "    </tr>\n",
              "    <tr>\n",
              "      <th>45</th>\n",
              "      <td>* * * Last Name NamePattern4 * * recs when ab...</td>\n",
              "      <td>1</td>\n",
              "    </tr>\n",
              "    <tr>\n",
              "      <th>46</th>\n",
              "      <td>npn neuro: pt restless off and on thrashing h...</td>\n",
              "      <td>1</td>\n",
              "    </tr>\n",
              "    <tr>\n",
              "      <th>47</th>\n",
              "      <td>T /SICU Nursing progress note S: Mouths words...</td>\n",
              "      <td>1</td>\n",
              "    </tr>\n",
              "    <tr>\n",
              "      <th>48</th>\n",
              "      <td>REviewed PT  * *Name NI * * and importance of...</td>\n",
              "      <td>1</td>\n",
              "    </tr>\n",
              "    <tr>\n",
              "      <th>49</th>\n",
              "      <td>NEURO: Pt very agitated/restless. Comabative ...</td>\n",
              "      <td>1</td>\n",
              "    </tr>\n",
              "    <tr>\n",
              "      <th>50</th>\n",
              "      <td>*Month/Year 2 1918 * * c low residuals noted....</td>\n",
              "      <td>1</td>\n",
              "    </tr>\n",
              "    <tr>\n",
              "      <th>51</th>\n",
              "      <td>.H / O diabetes Mellitus DM Type II Assessmen...</td>\n",
              "      <td>1</td>\n",
              "    </tr>\n",
              "    <tr>\n",
              "      <th>52</th>\n",
              "      <td>Events: Moderate amount of bleeding at trach ...</td>\n",
              "      <td>1</td>\n",
              "    </tr>\n",
              "    <tr>\n",
              "      <th>53</th>\n",
              "      <td>\" HR 50-110 SB-ST occasional PVC baseline is ...</td>\n",
              "      <td>3</td>\n",
              "    </tr>\n",
              "    <tr>\n",
              "      <th>54</th>\n",
              "      <td>Hemodynamic Response Aerobic Capacity HR BP R...</td>\n",
              "      <td>1</td>\n",
              "    </tr>\n",
              "    <tr>\n",
              "      <th>55</th>\n",
              "      <td>en Response: Pt slept for a few hours after r...</td>\n",
              "      <td>1</td>\n",
              "    </tr>\n",
              "  </tbody>\n",
              "</table>\n",
              "</div>\n",
              "      <button class=\"colab-df-convert\" onclick=\"convertToInteractive('df-b0099ae0-f67c-4729-8976-b2b0a1f06f23')\"\n",
              "              title=\"Convert this dataframe to an interactive table.\"\n",
              "              style=\"display:none;\">\n",
              "        \n",
              "  <svg xmlns=\"http://www.w3.org/2000/svg\" height=\"24px\"viewBox=\"0 0 24 24\"\n",
              "       width=\"24px\">\n",
              "    <path d=\"M0 0h24v24H0V0z\" fill=\"none\"/>\n",
              "    <path d=\"M18.56 5.44l.94 2.06.94-2.06 2.06-.94-2.06-.94-.94-2.06-.94 2.06-2.06.94zm-11 1L8.5 8.5l.94-2.06 2.06-.94-2.06-.94L8.5 2.5l-.94 2.06-2.06.94zm10 10l.94 2.06.94-2.06 2.06-.94-2.06-.94-.94-2.06-.94 2.06-2.06.94z\"/><path d=\"M17.41 7.96l-1.37-1.37c-.4-.4-.92-.59-1.43-.59-.52 0-1.04.2-1.43.59L10.3 9.45l-7.72 7.72c-.78.78-.78 2.05 0 2.83L4 21.41c.39.39.9.59 1.41.59.51 0 1.02-.2 1.41-.59l7.78-7.78 2.81-2.81c.8-.78.8-2.07 0-2.86zM5.41 20L4 18.59l7.72-7.72 1.47 1.35L5.41 20z\"/>\n",
              "  </svg>\n",
              "      </button>\n",
              "      \n",
              "  <style>\n",
              "    .colab-df-container {\n",
              "      display:flex;\n",
              "      flex-wrap:wrap;\n",
              "      gap: 12px;\n",
              "    }\n",
              "\n",
              "    .colab-df-convert {\n",
              "      background-color: #E8F0FE;\n",
              "      border: none;\n",
              "      border-radius: 50%;\n",
              "      cursor: pointer;\n",
              "      display: none;\n",
              "      fill: #1967D2;\n",
              "      height: 32px;\n",
              "      padding: 0 0 0 0;\n",
              "      width: 32px;\n",
              "    }\n",
              "\n",
              "    .colab-df-convert:hover {\n",
              "      background-color: #E2EBFA;\n",
              "      box-shadow: 0px 1px 2px rgba(60, 64, 67, 0.3), 0px 1px 3px 1px rgba(60, 64, 67, 0.15);\n",
              "      fill: #174EA6;\n",
              "    }\n",
              "\n",
              "    [theme=dark] .colab-df-convert {\n",
              "      background-color: #3B4455;\n",
              "      fill: #D2E3FC;\n",
              "    }\n",
              "\n",
              "    [theme=dark] .colab-df-convert:hover {\n",
              "      background-color: #434B5C;\n",
              "      box-shadow: 0px 1px 3px 1px rgba(0, 0, 0, 0.15);\n",
              "      filter: drop-shadow(0px 1px 2px rgba(0, 0, 0, 0.3));\n",
              "      fill: #FFFFFF;\n",
              "    }\n",
              "  </style>\n",
              "\n",
              "      <script>\n",
              "        const buttonEl =\n",
              "          document.querySelector('#df-b0099ae0-f67c-4729-8976-b2b0a1f06f23 button.colab-df-convert');\n",
              "        buttonEl.style.display =\n",
              "          google.colab.kernel.accessAllowed ? 'block' : 'none';\n",
              "\n",
              "        async function convertToInteractive(key) {\n",
              "          const element = document.querySelector('#df-b0099ae0-f67c-4729-8976-b2b0a1f06f23');\n",
              "          const dataTable =\n",
              "            await google.colab.kernel.invokeFunction('convertToInteractive',\n",
              "                                                     [key], {});\n",
              "          if (!dataTable) return;\n",
              "\n",
              "          const docLinkHtml = 'Like what you see? Visit the ' +\n",
              "            '<a target=\"_blank\" href=https://colab.research.google.com/notebooks/data_table.ipynb>data table notebook</a>'\n",
              "            + ' to learn more about interactive tables.';\n",
              "          element.innerHTML = '';\n",
              "          dataTable['output_type'] = 'display_data';\n",
              "          await google.colab.output.renderOutput(dataTable, element);\n",
              "          const docLink = document.createElement('div');\n",
              "          docLink.innerHTML = docLinkHtml;\n",
              "          element.appendChild(docLink);\n",
              "        }\n",
              "      </script>\n",
              "    </div>\n",
              "  </div>\n",
              "  "
            ],
            "text/plain": [
              "                                                 text  label\n",
              "0    RN shift note neuro: Intact; AAO x 3. Coop & ...      1\n",
              "1    Response: She  * *Doctor Last Name * * w/ low...      1\n",
              "2    Able to communicate via daughter. Daughter st...      1\n",
              "3    ema/anasarca 6 plus pitting bilateral pleural...      1\n",
              "4    Con Q6hr Acetminophen emotional support PRN M...      1\n",
              "5    Still has + air-leak. Plan: Pulmonary toilet ...      1\n",
              "6    th 100 mcg boluses every  **1-16 * * hrs. Als...      1\n",
              "7    * Last Name STitle * * aware pt weaned off la...      1\n",
              "8    SBT and PSV.  * *Month only 11 ** need presid...      1\n",
              "9    3000 ** * * Last Name Titles * * consult tomo...      1\n",
              "10   Sm amt thick yellow secretions. LS clear. Tra...      3\n",
              "11   al pain patient able to express pain through ...      1\n",
              "12   10 worse to abdominal incision than back inci...      1\n",
              "13   BS QID replete lytes as necessary. Delirium /...      1\n",
              "14   NPN 7a-7p Events: c/o R UE pain intermittentl...      1\n",
              "15   Abd very rounded but soft. Small open area no...      1\n",
              "16   *neuro- A&Ox3 when asked but confused at time...      1\n",
              "17   Try to wean if possible of vent .H /O diabete...      3\n",
              "18   * * Date range 1 6839* * 1900-0700 This 60 yr...      1\n",
              "19   **Name2 NI * * site c/d small ecchymotic area...      1\n",
              "20   Thromboembolism other Assessment: Right arm m...      1\n",
              "21  \" PVCs  PACs.\" no runs. K+ 4.1 MG+ 2.7 after d...      1\n",
              "22   fol shut off to assess MS unlike in the past ...      1\n",
              "23   cardiac- > \" hr 90-110s sr/st w/occational pv...      1\n",
              "24   encouragement to cough and deep breath nebs a...      1\n",
              "25   Suction  * *Hospital 12615 * * rehab once ins...      1\n",
              "26   med reaction...25mg IV benadryl given and pat...      1\n",
              "27   Will cont to follow for abrupt changes in HCT...      3\n",
              "28   He is on tobramycin was on  * *9-7 **. he wil...      1\n",
              "29   alert oriented. Speech is somewhat difficult ...      3\n",
              "30   : n/a Past addictions history: n/a Employment...      1\n",
              "31   Monitor hct s/s bleeding Pulmonary edema Asse...      1\n",
              "32   : Stable Plan: Monitor for temp po antibiotic...      1\n",
              "33   MS Assessment: Upon initial assessment  pt. l...      1\n",
              "34   to see pt. moves all ext on bed. Opens eyes t...      1\n",
              "35   51 y/o M with hx of DM asthma depression and ...      1\n",
              "36   <140 Diures for goal FB -1L HypoxemiaAssessme...      1\n",
              "37   Neuro: tp is alert and oriented. at start of ...      1\n",
              "38   ** recs. Neuro: alert oriented follows comman...      1\n",
              "39   Continue current treatment. Pain control acut...      1\n",
              "40   or no questions intermittently. However has n...      1\n",
              "41   Pain med is ordered for prn and pt reminded t...      1\n",
              "42   Neuro: Opens eyes able to wiggle toes on R fo...      1\n",
              "43   S/P extubation * *4-10 ** in afternoon. Pt to...      1\n",
              "44   Cont to wean O2 as able pain mgmt. High Risk ...      1\n",
              "45   * * * Last Name NamePattern4 * * recs when ab...      1\n",
              "46   npn neuro: pt restless off and on thrashing h...      1\n",
              "47   T /SICU Nursing progress note S: Mouths words...      1\n",
              "48   REviewed PT  * *Name NI * * and importance of...      1\n",
              "49   NEURO: Pt very agitated/restless. Comabative ...      1\n",
              "50   *Month/Year 2 1918 * * c low residuals noted....      1\n",
              "51   .H / O diabetes Mellitus DM Type II Assessmen...      1\n",
              "52   Events: Moderate amount of bleeding at trach ...      1\n",
              "53   \" HR 50-110 SB-ST occasional PVC baseline is ...      3\n",
              "54   Hemodynamic Response Aerobic Capacity HR BP R...      1\n",
              "55   en Response: Pt slept for a few hours after r...      1"
            ]
          },
          "metadata": {},
          "execution_count": 82
        }
      ]
    },
    {
      "cell_type": "code",
      "source": [
        "data_val.text[50]"
      ],
      "metadata": {
        "colab": {
          "base_uri": "https://localhost:8080/",
          "height": 105
        },
        "id": "k_JCS6wZuyUU",
        "outputId": "6858815a-f45a-443b-f7af-8bc23c913bd7"
      },
      "execution_count": null,
      "outputs": [
        {
          "output_type": "execute_result",
          "data": {
            "application/vnd.google.colaboratory.intrinsic+json": {
              "type": "string"
            },
            "text/plain": [
              "' *Month/Year 2 1918 * * c low residuals noted. Pt cont to be incontinent ofloose brown stools that are guaic negative. Abd is soft c + BS appreciated. MS: Pt appears relatively comfortable lying in bed when left alone but becomes distressed when direct pt care is provided. 1 Pt does respond to verbal stimuli and follows simple commands. 1 Pt mouthed the word \"no\" when asked if she was in pain this AM. 1 Pt mouthed the word \" 1 yes\" when asked if she was itchy subsequently 25mg PO Benadryl was provided via * 1 *Month/Year 2 1 1918 1 * 1 *. 1 Pt re-oriented to person/place/time/care rationale to assist c nl cognition. 1 SOC: 2 Son '"
            ]
          },
          "metadata": {},
          "execution_count": 87
        }
      ]
    },
    {
      "cell_type": "code",
      "source": [
        "data_val.to_csv('finalData_val.csv', index=False)"
      ],
      "metadata": {
        "id": "lflbL-VMtiUW"
      },
      "execution_count": null,
      "outputs": []
    },
    {
      "cell_type": "code",
      "source": [
        "#from typing import Pattern\n",
        "modified_string = re.sub(r\"[0-9]\\)\", \"\", text)\n",
        "modified_string\n",
        "m = re.sub(r'[\\([{})\\]]', \"\", modified_string)\n",
        "m2 = re.sub(\"'\", \"\", m)\n",
        "#remove extra spaces\n",
        "m3 = re.sub(' +', ' ', m2)\n",
        "#remove the colons\n",
        "m4 = re.sub(',', \"\", m3)\n",
        "m4\n",
        "#text = re.sub(pattern, '' , text)"
      ],
      "metadata": {
        "colab": {
          "base_uri": "https://localhost:8080/",
          "height": 88
        },
        "id": "Q18YFo7Qh6y4",
        "outputId": "d5512e75-74fe-4e3d-d38c-9f2b1f015107"
      },
      "execution_count": null,
      "outputs": [
        {
          "output_type": "execute_result",
          "data": {
            "application/vnd.google.colaboratory.intrinsic+json": {
              "type": "string"
            },
            "text/plain": [
              "' Flolan at 15ng/kg/min based on 95kg maintained at 17.2cc /hr O2 4l nasal prongs. Response: O2 saturation >94%. No c/o SOB at rest. Plan: Continue to follow Flolan guidelines observe for change in respiratory status with activity. Systemic Lupus Erythematosus SLE Assessment: 1 c/ 1 o generalized aches and pains in joints Action: 1 Receives home doses of Tylenol 1 #3- 2 tabs at 4-6am noon and bedtime. 1 Hydrocodone 7.5mg-325 1 mg 2 tabs mid am and 4-6pm. 1 Response: 1 Fair control of pain Plan: 1 Continue home regime for pain control. 1 Possibly have pain service consulted for fentanyl patch. 2 Anxiety Assessment:'"
            ]
          },
          "metadata": {},
          "execution_count": 7
        }
      ]
    },
    {
      "cell_type": "code",
      "source": [
        "labels = df['label'].values\n",
        "type((labels))\n",
        "sentiment = []\n",
        "for label in labels:\n",
        "  label = label.replace( \"[\" , \"\")\n",
        "  label = label.replace(\"]\" , \"\")\n",
        "  label = label.replace(\",\", \"\")\n",
        "  sentiment.append(label)\n",
        "s = [s[:2] for s in sentiment] \n",
        "sentiments = [int(i) for i in s]"
      ],
      "metadata": {
        "id": "2YRRmjYxbPkh"
      },
      "execution_count": null,
      "outputs": []
    },
    {
      "cell_type": "code",
      "source": [
        "import numpy as np\n",
        "#sentiments.count().plot(kind='bar')"
      ],
      "metadata": {
        "id": "Le2FiwZJij55"
      },
      "execution_count": null,
      "outputs": []
    },
    {
      "cell_type": "code",
      "source": [
        "!pip install transformers"
      ],
      "metadata": {
        "colab": {
          "base_uri": "https://localhost:8080/"
        },
        "id": "fMbSLR7uHpoB",
        "outputId": "86ecc892-b1a6-43f5-abb3-fd6f72146ba3"
      },
      "execution_count": null,
      "outputs": [
        {
          "output_type": "stream",
          "name": "stdout",
          "text": [
            "Requirement already satisfied: transformers in /usr/local/lib/python3.7/dist-packages (4.16.2)\n",
            "Requirement already satisfied: filelock in /usr/local/lib/python3.7/dist-packages (from transformers) (3.6.0)\n",
            "Requirement already satisfied: packaging>=20.0 in /usr/local/lib/python3.7/dist-packages (from transformers) (21.3)\n",
            "Requirement already satisfied: tqdm>=4.27 in /usr/local/lib/python3.7/dist-packages (from transformers) (4.62.3)\n",
            "Requirement already satisfied: importlib-metadata in /usr/local/lib/python3.7/dist-packages (from transformers) (4.11.1)\n",
            "Requirement already satisfied: huggingface-hub<1.0,>=0.1.0 in /usr/local/lib/python3.7/dist-packages (from transformers) (0.4.0)\n",
            "Requirement already satisfied: tokenizers!=0.11.3,>=0.10.1 in /usr/local/lib/python3.7/dist-packages (from transformers) (0.11.6)\n",
            "Requirement already satisfied: sacremoses in /usr/local/lib/python3.7/dist-packages (from transformers) (0.0.47)\n",
            "Requirement already satisfied: requests in /usr/local/lib/python3.7/dist-packages (from transformers) (2.23.0)\n",
            "Requirement already satisfied: numpy>=1.17 in /usr/local/lib/python3.7/dist-packages (from transformers) (1.21.5)\n",
            "Requirement already satisfied: regex!=2019.12.17 in /usr/local/lib/python3.7/dist-packages (from transformers) (2019.12.20)\n",
            "Requirement already satisfied: pyyaml>=5.1 in /usr/local/lib/python3.7/dist-packages (from transformers) (6.0)\n",
            "Requirement already satisfied: typing-extensions>=3.7.4.3 in /usr/local/lib/python3.7/dist-packages (from huggingface-hub<1.0,>=0.1.0->transformers) (3.10.0.2)\n",
            "Requirement already satisfied: pyparsing!=3.0.5,>=2.0.2 in /usr/local/lib/python3.7/dist-packages (from packaging>=20.0->transformers) (3.0.7)\n",
            "Requirement already satisfied: zipp>=0.5 in /usr/local/lib/python3.7/dist-packages (from importlib-metadata->transformers) (3.7.0)\n",
            "Requirement already satisfied: urllib3!=1.25.0,!=1.25.1,<1.26,>=1.21.1 in /usr/local/lib/python3.7/dist-packages (from requests->transformers) (1.24.3)\n",
            "Requirement already satisfied: idna<3,>=2.5 in /usr/local/lib/python3.7/dist-packages (from requests->transformers) (2.10)\n",
            "Requirement already satisfied: chardet<4,>=3.0.2 in /usr/local/lib/python3.7/dist-packages (from requests->transformers) (3.0.4)\n",
            "Requirement already satisfied: certifi>=2017.4.17 in /usr/local/lib/python3.7/dist-packages (from requests->transformers) (2021.10.8)\n",
            "Requirement already satisfied: six in /usr/local/lib/python3.7/dist-packages (from sacremoses->transformers) (1.15.0)\n",
            "Requirement already satisfied: joblib in /usr/local/lib/python3.7/dist-packages (from sacremoses->transformers) (1.1.0)\n",
            "Requirement already satisfied: click in /usr/local/lib/python3.7/dist-packages (from sacremoses->transformers) (7.1.2)\n"
          ]
        }
      ]
    },
    {
      "cell_type": "code",
      "source": [
        "#model_name = 'Emran/ClinicalBERT_ICD10_Full'\n",
        "model_name = 'AndyJ/clinicalBERT'\n",
        "model_name = 'Tsubasaz/clinical-pubmed-bert-base-512'"
      ],
      "metadata": {
        "id": "O3wV3RLuJc8v"
      },
      "execution_count": null,
      "outputs": []
    },
    {
      "cell_type": "code",
      "source": [
        "from transformers import BertForSequenceClassification\n",
        "\n",
        "model = BertForSequenceClassification.from_pretrained(model_name)\n"
      ],
      "metadata": {
        "colab": {
          "base_uri": "https://localhost:8080/"
        },
        "id": "IsejeOj8Jt7R",
        "outputId": "28c4bc9a-9b93-4960-cc3d-f5d8c9a77a2c"
      },
      "execution_count": null,
      "outputs": [
        {
          "output_type": "stream",
          "name": "stderr",
          "text": [
            "Some weights of the model checkpoint at Tsubasaz/clinical-pubmed-bert-base-512 were not used when initializing BertForSequenceClassification: ['cls.predictions.transform.dense.bias', 'cls.predictions.decoder.weight', 'cls.predictions.transform.dense.weight', 'cls.predictions.transform.LayerNorm.bias', 'cls.predictions.decoder.bias', 'cls.predictions.transform.LayerNorm.weight', 'cls.predictions.bias']\n",
            "- This IS expected if you are initializing BertForSequenceClassification from the checkpoint of a model trained on another task or with another architecture (e.g. initializing a BertForSequenceClassification model from a BertForPreTraining model).\n",
            "- This IS NOT expected if you are initializing BertForSequenceClassification from the checkpoint of a model that you expect to be exactly identical (initializing a BertForSequenceClassification model from a BertForSequenceClassification model).\n",
            "Some weights of BertForSequenceClassification were not initialized from the model checkpoint at Tsubasaz/clinical-pubmed-bert-base-512 and are newly initialized: ['bert.pooler.dense.weight', 'classifier.bias', 'bert.pooler.dense.bias', 'classifier.weight']\n",
            "You should probably TRAIN this model on a down-stream task to be able to use it for predictions and inference.\n"
          ]
        }
      ]
    },
    {
      "cell_type": "code",
      "source": [
        "from transformers import BertTokenizer\n",
        "\n",
        "tokeniser = BertTokenizer.from_pretrained(model_name)\n",
        "\n",
        "tokens = tokeniser(df['paragraph'].tolist(), max_length= 512, padding = 'max_length', truncation = True,\n",
        "                      add_special_tokens = True, return_tensors = 'pt' )"
      ],
      "metadata": {
        "id": "QS-9X26XKivP"
      },
      "execution_count": null,
      "outputs": []
    },
    {
      "cell_type": "code",
      "source": [
        "tokens.keys()"
      ],
      "metadata": {
        "colab": {
          "base_uri": "https://localhost:8080/"
        },
        "id": "lGvXkMaFfA6H",
        "outputId": "2dffcc85-7c32-4f14-dc18-a2a6af9ea8d8"
      },
      "execution_count": null,
      "outputs": [
        {
          "output_type": "execute_result",
          "data": {
            "text/plain": [
              "dict_keys(['input_ids', 'token_type_ids', 'attention_mask'])"
            ]
          },
          "metadata": {},
          "execution_count": 14
        }
      ]
    },
    {
      "cell_type": "code",
      "source": [
        "output = model(**tokens)"
      ],
      "metadata": {
        "id": "7clkQ2-QrgWF"
      },
      "execution_count": null,
      "outputs": []
    },
    {
      "cell_type": "code",
      "source": [
        "output.shape"
      ],
      "metadata": {
        "id": "rrc9lR6Trw2R"
      },
      "execution_count": null,
      "outputs": []
    },
    {
      "cell_type": "code",
      "source": [
        "text_IDs = tokens.input_ids\n",
        "text_mask = tokens.attention_mask"
      ],
      "metadata": {
        "id": "XLZo8i2VfQa6"
      },
      "execution_count": null,
      "outputs": []
    },
    {
      "cell_type": "code",
      "source": [
        "text_IDs"
      ],
      "metadata": {
        "id": "jqtLY44_rvpt"
      },
      "execution_count": null,
      "outputs": []
    },
    {
      "cell_type": "code",
      "source": [
        "sentiments= torch.tensor(sentiments).unsqueeze(dim=1)\n",
        "sentiments.shape"
      ],
      "metadata": {
        "id": "v1s4neDGsVpl"
      },
      "execution_count": null,
      "outputs": []
    },
    {
      "cell_type": "code",
      "source": [
        "text_IDs.shape"
      ],
      "metadata": {
        "id": "Q8ay3tdouymS"
      },
      "execution_count": null,
      "outputs": []
    },
    {
      "cell_type": "code",
      "source": [
        "from torch.utils.data import TensorDataset, DataLoader"
      ],
      "metadata": {
        "id": "FTW9WziVegcu"
      },
      "execution_count": null,
      "outputs": []
    },
    {
      "cell_type": "code",
      "source": [
        "dataset = TensorDataset(text_IDs, text_mask, sentiments)"
      ],
      "metadata": {
        "id": "8BzSIV6qeduM"
      },
      "execution_count": null,
      "outputs": []
    },
    {
      "cell_type": "code",
      "source": [
        "batch_size = 16\n",
        "split = 0.9\n",
        "size = text_IDs.shape[0]\n",
        "train_size = int(size/batch_size * split)\n",
        "val_size = len(dataset)-train_size\n",
        "train_dataset, val_dataset = torch.utils.data.random_split(dataset, [train_size , val_size])"
      ],
      "metadata": {
        "id": "euCJsyxFy7L6"
      },
      "execution_count": null,
      "outputs": []
    },
    {
      "cell_type": "code",
      "source": [
        "train_loader = DataLoader(train_dataset, batch_size = 16, shuffle= True, drop_last= True)\n",
        "val_loader = DataLoader(val_dataset, batch_size = 16, shuffle= True, drop_last= True)"
      ],
      "metadata": {
        "id": "7XRg57J3w93M"
      },
      "execution_count": null,
      "outputs": []
    },
    {
      "cell_type": "code",
      "source": [
        "class Clinicalbert(torch.nn.Module):\n",
        "  def __init__(self):\n",
        "\n",
        "    super(Clinicalbert, self).__init__()\n",
        "  #transformer\n",
        "    self.hidden_states = BertForSequenceClassification.from_pretrained(model_name)\n",
        "  #clasification heads\n",
        "    self.layer1 = torch.nn.Linear(768, 3)\n",
        "  #prob\n",
        "    self.prob = torch.nn.Softmax(dim = 1)\n",
        "\n",
        "  def forward(self, text_IDs, attention_mask):\n",
        "\n",
        "    embeddings = self.hidden_states(text_IDs, attention_mask)[1] #get the pooled output\n",
        "    print(embeddings.shape)\n",
        "    z = self.layer1(embeddings[:0]) #get the cls vector\n",
        "    output= self.prob(z)\n",
        "    return output\n",
        "\n"
      ],
      "metadata": {
        "id": "xuepUg7Q5MIU"
      },
      "execution_count": null,
      "outputs": []
    },
    {
      "cell_type": "code",
      "source": [
        "if torch.cuda.is_available():\n",
        "  device  = torch.device(\"cuda\")\n",
        "else:\n",
        "  device = torch.device(\"cpu\")"
      ],
      "metadata": {
        "id": "0MokTQXwCD4f"
      },
      "execution_count": null,
      "outputs": []
    },
    {
      "cell_type": "code",
      "source": [
        "model= Clinicalbert()\n",
        "model.to(device)"
      ],
      "metadata": {
        "id": "Fo4w_SKCB6dP"
      },
      "execution_count": null,
      "outputs": []
    },
    {
      "cell_type": "code",
      "source": [
        "criterian =torch.nn.CrossEntropyLoss()\n",
        "optimiser = torch.optim.AdamW(params = model.parameters() , lr = 5e-3)"
      ],
      "metadata": {
        "id": "JD2fY8clC7lV"
      },
      "execution_count": null,
      "outputs": []
    },
    {
      "cell_type": "code",
      "source": [
        "def evaluate(model,dataloader, device):\n",
        "\n",
        "    model.eval()\n",
        "    total_loss = 0\n",
        "    predictions, true_labels = [], []\n",
        "    criterion = torch.nn.CrossEntropyLoss()\n",
        "\n",
        "    for batch in dataloader:\n",
        "        batch = tuple(b.to(device) for b in batch)\n",
        "\n",
        "        inputs = {\n",
        "            'input_ids': batch[0],\n",
        "            'attention_mask': batch[1],\n",
        "            'token_type_ids':batch[2],\n",
        "        }\n",
        "        with torch.no_grad():\n",
        "            outputs = model(**inputs)\n",
        "\n",
        "        targets = batch[3].to(device, dtype=torch.long)\n",
        "        loss = criterion(outputs, targets)\n",
        "        total_loss += loss.item()\n",
        "        logits = outputs.data\n",
        "        logits = logits.detach().cpu().numpy()\n",
        "        label_ids = batch[3].cpu().numpy()\n",
        "        predictions.append(logits)\n",
        "        true_labels.append(label_ids)\n",
        "\n",
        "    loss_avg = total_loss / len(dataloader)\n",
        "    predictions = np.concatenate(predictions, axis=0)\n",
        "    true_labels = np.concatenate(true_labels, axis=0)\n",
        "\n",
        "    return loss_avg, predictions, true_labels"
      ],
      "metadata": {
        "id": "1upPsp5-WcKA"
      },
      "execution_count": null,
      "outputs": []
    },
    {
      "cell_type": "code",
      "source": [
        "def f1_score_func(preds, labels):\n",
        "    preds_flat = np.argmax(preds, axis=1).flatten()\n",
        "    labels_flat = labels.flatten()\n",
        "    return f1_score(labels_flat, preds_flat, average='weighted')"
      ],
      "metadata": {
        "id": "4_TPCvWcXA1v"
      },
      "execution_count": null,
      "outputs": []
    },
    {
      "cell_type": "code",
      "source": [
        "from tqdm import tqdm"
      ],
      "metadata": {
        "id": "3IDx6onDD6Pm"
      },
      "execution_count": null,
      "outputs": []
    },
    {
      "cell_type": "code",
      "source": [
        "epoch = 5\n",
        "for i in range(5):\n",
        "  model.train()\n",
        "  for iterarion, data in tqdm(enumerate(train_loader, 0)):\n",
        "    ids = data[0].to(device)\n",
        "    attention = data[1].to(device)\n",
        "    targets = data[2].to(device)\n",
        "    out = model (ids, attention)\n",
        "    loss = criterian(labels, out)\n",
        "    if iterarion % 100 == 0:\n",
        "        valid_loss, predictions_valid, true_valid = evaluate(model, val_loader, device)\n",
        "        valid_f1 = f1_score_func(predictions_valid, true_valid)\n",
        "        train_loss, predictions_train, true_train = evaluate(model, train_loader, device)\n",
        "        train_f1 = f1_score_func(predictions_train, true_train)\n",
        "        print(\"\\nf1 score on valid data is: \", valid_f1)\n",
        "        print(\"\\nf1 score on train data is: \", train_f1)\n",
        "\n",
        "\n",
        "\n",
        "    optimizer.zero_grad()\n",
        "    loss.backward()\n",
        "    optimizer.step()\n",
        "\n",
        "  torch.save(model.state_dict(), f'ClinicalBert_epoch{i}.model')"
      ],
      "metadata": {
        "id": "oAuzL6_fDuON"
      },
      "execution_count": null,
      "outputs": []
    },
    {
      "cell_type": "code",
      "source": [
        "outputs = model (**tokens)"
      ],
      "metadata": {
        "id": "8eisrPLDPocU"
      },
      "execution_count": null,
      "outputs": []
    },
    {
      "cell_type": "code",
      "source": [
        "outputs"
      ],
      "metadata": {
        "id": "Ej5sqmvrRgeq"
      },
      "execution_count": null,
      "outputs": []
    },
    {
      "cell_type": "code",
      "source": [
        "outputs.logits.shape\n"
      ],
      "metadata": {
        "id": "Lf7n0X6APwus"
      },
      "execution_count": null,
      "outputs": []
    },
    {
      "cell_type": "code",
      "source": [
        "#etract the logit tensor\n",
        "outputs[0]"
      ],
      "metadata": {
        "id": "nQXhp9bFPVPs"
      },
      "execution_count": null,
      "outputs": []
    },
    {
      "cell_type": "code",
      "source": [
        "import torch.nn.functional as F\n",
        "probs = F.softmax(outputs[0], dim = -1)\n",
        "probs"
      ],
      "metadata": {
        "id": "i_jRjVjdLweT"
      },
      "execution_count": null,
      "outputs": []
    },
    {
      "cell_type": "code",
      "source": [
        "import torch\n",
        "pred = torch.argmax(probs)\n",
        "pred.item()"
      ],
      "metadata": {
        "id": "whmjnpKdUMyX"
      },
      "execution_count": null,
      "outputs": []
    }
  ]
}